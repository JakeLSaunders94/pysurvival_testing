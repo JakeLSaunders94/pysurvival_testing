{
 "cells": [
  {
   "cell_type": "markdown",
   "metadata": {
    "collapsed": true,
    "pycharm": {
     "name": "#%% md\n"
    }
   },
   "source": [
    "# Predictive Maintenance Analysis in Python using Pysurvival\n",
    "This is the predictive maintenance tutorial from the pysurvival docs, which can be found [here](https://square.github.io/pysurvival/tutorials/maintenance.html).\n",
    "General idea is so that I can learn some core machine learning concepts alongside pysurvival.\n",
    "\n",
    "## What is survival analysis?\n",
    "Put simply, survival analysis is using historical data to predict the probability of an event happening at any given moment. Good examples of this are:\n",
    "\n",
    "- Banks, lenders and other financial institutions use it to compute the speed of repayment of loans or when a borrower will default.\n",
    "- Businesses adopt it to calculate their customers LTV (lifetime value) or when a client will churn.\n",
    "- Companies use it to predict when employees will decide to leave.\n",
    "- Engineers/manufacturers apply it to predict when a machine will break.\n",
    "\n",
    "Historically, I might have used regression as part of six sigma based approach to predict something like mean time to failure and the preceding factors.\n",
    "However, this ignores the data we have for assets that have not failed in our dataset's timeframe, which is just as important as the ones that have.\n",
    "This is called censoring. Survival models account for this censoring and incorporate the uncertainty into the model.\n",
    "\n",
    "\n",
    "## What does this have to do with predictive maintenance?\n",
    "Well, what if you're running a load of engines all around the world and you're measuring a bunch of data from those engines. If you knew that an idling\n",
    "engine RPM of 1250 or more for longer than 5 minutes when the atmospheric temp is above 30 degrees and coolant temp was above 95 degrees meant that your\n",
    "radiator was statistically about to break, that would be valuable information. Survival models should be able to tell us this based on historical data."
   ]
  },
  {
   "cell_type": "markdown",
   "source": [
    "## Dataset\n",
    "The dataset is important, here's our starting dataset.\n",
    "\n",
    "|Feature category|Feature name|Type|Description|\n",
    "|--- |--- |--- |--- |\n",
    "|Time|lifetime|numerical|Number of weeks the machine has been active|\n",
    "|Event|broken|numerical|Specifies if the machine was broken or hasn't been broken yet for the corresponding weeks in activity|\n",
    "|IoT measure|pressureInd|numerical|The pressure index is used to quantify the flow of liquid through pipes, as a sudden drop of pressure can indicate a leak|\n",
    "|IoT measure|moistureInd|numerical|The moisture index is a measure of the relative humidity in the air. It is important to keep track of it as excessive humidity can create mold and damage the equipment|\n",
    "|IoT measure|temperatureInd|numerical|The temperature index of the machine is computed using voltage devices called thermocouples that translate a change in voltage into temperature measure. It is recorded to avoid damages to electric circuits, fire or even explosion|\n",
    "|Company feature|team|categorical|This indicator specifies which team is using the machine|\n",
    "|Machine feature|provider|categorical|This indicator specifies the name of the machine manufacturer|"
   ],
   "metadata": {
    "collapsed": false,
    "pycharm": {
     "name": "#%% md\n"
    }
   }
  },
  {
   "cell_type": "markdown",
   "source": [
    "## Exploratory Data Analysis\n",
    "Exploratory data analysis is the process of taking a new dataset, figuring out what's in there and beginning to try and answer some questions. That explanation sucks. Here's a better one.\n",
    "Exploratory Data Analysis refers to the critical process of performing initial investigations on data so as to discover patterns,to spot anomalies,to test\n",
    "hypothesis and to check assumptions with the help of summary statistics and graphical representations.\n",
    "\n",
    "Start by loading a sample dataset and seeing what shape it is."
   ],
   "metadata": {
    "collapsed": false
   }
  },
  {
   "cell_type": "code",
   "execution_count": null,
   "outputs": [],
   "source": [
    "import pandas as pd\n",
    "import numpy as np\n",
    "from matplotlib import pyplot as plt\n",
    "from pysurvival.datasets import Dataset\n",
    "\n",
    "# This appears to be some syntactic sugar to load numpy and matplotlib interactively?\n",
    "# https://ipython.org/ipython-doc/dev/interactive/magics.html\n",
    "%pylab inline\n",
    "\n",
    "\n",
    "# Read the dataset.\n",
    "raw_datas"
   ],
   "metadata": {
    "collapsed": false,
    "pycharm": {
     "name": "#%%\n"
    }
   }
  },
  {
   "cell_type": "markdown",
   "source": [],
   "metadata": {
    "collapsed": false
   }
  }
 ],
 "metadata": {
  "kernelspec": {
   "display_name": "Python 3",
   "language": "python",
   "name": "python3"
  },
  "language_info": {
   "codemirror_mode": {
    "name": "ipython",
    "version": 2
   },
   "file_extension": ".py",
   "mimetype": "text/x-python",
   "name": "python",
   "nbconvert_exporter": "python",
   "pygments_lexer": "ipython2",
   "version": "2.7.6"
  }
 },
 "nbformat": 4,
 "nbformat_minor": 0
}