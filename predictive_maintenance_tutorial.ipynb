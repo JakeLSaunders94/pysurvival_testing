{
 "cells": [
  {
   "cell_type": "markdown",
   "metadata": {
    "collapsed": true,
    "pycharm": {
     "name": "#%% md\n"
    }
   },
   "source": [
    "# Predictive Maintenance Analysis in Python using Pysurvival\n",
    "This is the predictive maintenance tutorial from the pysurvival docs, which can be found\n",
    "[here](https://square.github.io/pysurvival/tutorials/maintenance.html).\n",
    "General idea is so that I can learn some core machine learning concepts alongside pysurvival.\n",
    "\n",
    "## What is survival analysis?\n",
    "Put simply, survival analysis is using historical data to predict the probability of an event\n",
    "happening at any given moment. Good examples of this are:\n",
    "\n",
    "- Banks, lenders and other financial institutions use it to compute the speed of repayment of\n",
    "loans or when a borrower will default.\n",
    "- Businesses adopt it to calculate their customers LTV (lifetime value) or when a client will churn.\n",
    "- Companies use it to predict when employees will decide to leave.\n",
    "- Engineers/manufacturers apply it to predict when a machine will break.\n",
    "\n",
    "Historically, I might have used regression as part of six sigma based approach to predict something\n",
    " like mean time to failure and the preceding factors.\n",
    "However, this ignores the data we have for assets that have not failed in our dataset's timeframe,\n",
    " which is just as important as the ones that have.\n",
    "This is called censoring. Survival models account for this censoring and incorporate the\n",
    "uncertainty into the model.\n",
    "\n",
    "\n",
    "## What does this have to do with predictive maintenance?\n",
    "Well, what if you're running a load of engines all around the world and you're measuring a bunch\n",
    "of data from those engines. If you knew that an idling\n",
    "engine RPM of 1250 or more for longer than 5 minutes when the atmospheric temp is above 30 degrees\n",
    "and coolant temp was above 95 degrees meant that your\n",
    "radiator was statistically about to break, that would be valuable information. Survival models\n",
    "should be able to tell us this based on historical data."
   ]
  },
  {
   "cell_type": "markdown",
   "source": [
    "## Dataset\n",
    "The dataset is important, here's our starting dataset.\n",
    "\n",
    "|Feature category|Feature name|Type|Description|\n",
    "|--- |--- |--- |--- |\n",
    "|Time|lifetime|numerical|Number of weeks the machine has been active|\n",
    "|Event|broken|numerical|Specifies if the machine was broken or hasn't been broken yet for the corresponding weeks in activity|\n",
    "|IoT measure|pressureInd|numerical|The pressure index is used to quantify the flow of liquid through pipes, as a sudden drop of pressure can indicate a leak|\n",
    "|IoT measure|moistureInd|numerical|The moisture index is a measure of the relative humidity in the air. It is important to keep track of it as excessive humidity can create mold and damage the equipment|\n",
    "|IoT measure|temperatureInd|numerical|The temperature index of the machine is computed using voltage devices called thermocouples that translate a change in voltage into temperature measure. It is recorded to avoid damages to electric circuits, fire or even explosion|\n",
    "|Company feature|team|categorical|This indicator specifies which team is using the machine|\n",
    "|Machine feature|provider|categorical|This indicator specifies the name of the machine manufacturer|"
   ],
   "metadata": {
    "collapsed": false,
    "pycharm": {
     "name": "#%% md\n"
    }
   }
  },
  {
   "cell_type": "markdown",
   "source": [
    "## Exploratory Data Analysis\n",
    "Exploratory data analysis is the process of taking a new dataset, figuring out what's in there and\n",
    "beginning to try and answer some questions. That explanation sucks. Here's a better one.\n",
    "Exploratory Data Analysis refers to the critical process of performing initial investigations\n",
    "on data so as to discover patterns,to spot anomalies,to test\n",
    "hypothesis and to check assumptions with the help of summary statistics and graphical\n",
    "representations.\n",
    "\n",
    "Start by loading a sample dataset and seeing what shape it is."
   ],
   "metadata": {
    "collapsed": false
   }
  },
  {
   "cell_type": "code",
   "execution_count": 11,
   "outputs": [
    {
     "name": "stdout",
     "output_type": "stream",
     "text": [
      "Populating the interactive namespace from numpy and matplotlib\n",
      "The raw_dataset has the following shape: (1000, 7).\n",
      "<class 'pandas.core.frame.DataFrame'>\n",
      "RangeIndex: 1000 entries, 0 to 999\n",
      "Data columns (total 7 columns):\n",
      " #   Column          Non-Null Count  Dtype  \n",
      "---  ------          --------------  -----  \n",
      " 0   lifetime        1000 non-null   int64  \n",
      " 1   broken          1000 non-null   int64  \n",
      " 2   pressureInd     1000 non-null   float64\n",
      " 3   moistureInd     1000 non-null   float64\n",
      " 4   temperatureInd  1000 non-null   float64\n",
      " 5   team            1000 non-null   object \n",
      " 6   provider        1000 non-null   object \n",
      "dtypes: float64(3), int64(2), object(2)\n",
      "memory usage: 54.8+ KB\n"
     ]
    }
   ],
   "source": [
    "import pandas as pd\n",
    "import numpy as np\n",
    "from matplotlib import pyplot as plt\n",
    "from pysurvival.datasets import Dataset\n",
    "\n",
    "# This appears to be some syntactic sugar to load numpy and matplotlib interactively?\n",
    "# https://ipython.org/ipython-doc/dev/interactive/magics.html\n",
    "%pylab inline\n",
    "\n",
    "# Read the dataset.\n",
    "raw_dataset = Dataset(\"maintenance\").load()\n",
    "print(\"The raw_dataset has the following shape: {}.\".format(raw_dataset.shape))\n",
    "raw_dataset.head(3) # Prints the top three rows\n",
    "raw_dataset.info() # Tells us what type of data we have."
   ],
   "metadata": {
    "collapsed": false,
    "pycharm": {
     "name": "#%%\n"
    }
   }
  },
  {
   "cell_type": "markdown",
   "source": [
    "Once we have our data loaded, we need to define it a little and do some transformation for it to work.\n",
    "\n",
    "Survival analysis is understanding the probability that a given **event** will occur at a given **time**.\n",
    "So it makes sense that we should have a column where we specify an event has occurred, and another\n",
    "where we represent time in some manner.\n"
   ],
   "metadata": {
    "collapsed": false
   }
  },
  {
   "cell_type": "code",
   "execution_count": 12,
   "outputs": [],
   "source": [
    "# Define our event and time column names.\n",
    "time_column = \"lifetime\"\n",
    "event_column = \"broken\"\n",
    "modelling_features = [time_column, event_column]"
   ],
   "metadata": {
    "collapsed": false,
    "pycharm": {
     "name": "#%%\n"
    }
   }
  },
  {
   "cell_type": "markdown",
   "source": [
    "### Categorical Data\n",
    "Some of our data is continuous data (i.e. numbers on a scale), however we also have some categorical data.\n",
    "In this example dataset the categorical data is shown in the team and provider columns. Categorical data\n",
    "often cannot be used directly by machine algorithms so we need to make our categories numerical, but there's a catch...\n",
    "\n",
    "In our example dataset, in the `Team` column, whe have a number of categories representing different teams.\n",
    "These are finite (in the sense that there are only a limited number of distinct options).\n",
    "\n",
    "`Team A`\n",
    "`Team B`\n",
    "`Team C`\n",
    "etc.\n",
    "\n",
    "To transform them into numerical data the algo can understand we could simply attach a number to each one.\n",
    "\n",
    "`Team A - 1`\n",
    "`Team B - 2`\n",
    "`Team C - 3`\n",
    "etc.\n",
    "\n",
    "Unfortunately, if we do this the algo may interpret the numbers as having some sort of scale, i.e. 1 is less than 2 etc.\n",
    "Which makes absolutely no sense given our context. To get around this, we encode the data as one-hot vectors.\n",
    "This is essentially making each category a binary type number where there is a single 1.\n",
    "\n",
    "`Team A - 0001`\n",
    "`Team B - 0010`\n",
    "`Team C - 0100`\n",
    "\n",
    "This removes any possible sense of scale between them while keeping them distinct and numerical.\n",
    "\n",
    "Pandas to the rescue!"
   ],
   "metadata": {
    "collapsed": false,
    "pycharm": {
     "name": "#%% md\n"
    }
   }
  },
  {
   "cell_type": "code",
   "execution_count": 13,
   "outputs": [],
   "source": [
    "# Encode our categorical data as one-hot vectors.\n",
    "categorical_data = [\"provider\", \"team\"]\n",
    "dataset = pd.get_dummies(raw_dataset, columns=categorical_data, drop_first=True)\n",
    "\n",
    "# Define our modelling features.\n",
    "# This gets the set difference of a 1d array.\n",
    "features = np.setdiff1d(dataset.columns, modelling_features).tolist()\n"
   ],
   "metadata": {
    "collapsed": false,
    "pycharm": {
     "name": "#%%\n"
    }
   }
  },
  {
   "cell_type": "markdown",
   "source": [
    "### Is our data in good shape?\n",
    "One of the things we need to understand very early on is how good is our raw data? At its most basic we need\n",
    "to know if we have any null values or if there are any duplicated rows."
   ],
   "metadata": {
    "collapsed": false
   }
  },
  {
   "cell_type": "code",
   "execution_count": 14,
   "outputs": [
    {
     "name": "stdout",
     "output_type": "stream",
     "text": [
      "There are 0 null values in our dataset.\n",
      "There are 0 duplicated rows in the dataset. Removing now.\n",
      "There are now 1000 samples in our dataset.\n"
     ]
    }
   ],
   "source": [
    "qty_null = sum(dataset[features].isnull().sum())\n",
    "print(f\"There are {qty_null} null values in our dataset.\")\n",
    "\n",
    "qty_dupes = sum(dataset.duplicated(keep=\"first\"))\n",
    "print(f\"There are {qty_dupes} duplicated rows in the dataset. Removing now.\")\n",
    "dataset = dataset.drop_duplicates(keep=\"first\").reset_index(drop=True)\n",
    "\n",
    "print(f\"There are now {dataset.shape[0]} samples in our dataset.\")\n"
   ],
   "metadata": {
    "collapsed": false,
    "pycharm": {
     "name": "#%%\n"
    }
   }
  },
  {
   "cell_type": "markdown",
   "source": [
    "## Visual exploration and statistics\n",
    "Lets do the basic stuff first. Boxplots and histograms of each feature."
   ],
   "metadata": {
    "collapsed": false
   }
  },
  {
   "cell_type": "code",
   "execution_count": 15,
   "outputs": [
    {
     "data": {
      "text/plain": "<Figure size 1080x288 with 2 Axes>",
      "image/png": "[encoded data removed]"
     },
     "metadata": {
      "needs_background": "light"
     },
     "output_type": "display_data"
    },
    {
     "data": {
      "text/plain": "<Figure size 1080x288 with 2 Axes>",
      "image/png": "[encoded data removed]"
     },
     "metadata": {
      "needs_background": "light"
     },
     "output_type": "display_data"
    },
    {
     "data": {
      "text/plain": "<Figure size 1080x288 with 2 Axes>",
      "image/png": "[encoded data removed]"
     },
     "metadata": {
      "needs_background": "light"
     },
     "output_type": "display_data"
    }
   ],
   "source": [
    "for feature in [\"pressureInd\", \"moistureInd\", \"temperatureInd\"]:\n",
    "    # Create an empty chart\n",
    "    fig, (plot_1, plot_2) = plt.subplots(1, 2, figsize=(15, 4))\n",
    "\n",
    "    # Extract the feature values\n",
    "    dataset_values = raw_dataset[feature].values\n",
    "\n",
    "    # Boxplot\n",
    "    plot_1.boxplot(dataset_values)\n",
    "    plot_1.set_title(f\"Boxplot for {feature}\")\n",
    "\n",
    "    # Histogram\n",
    "    plot_2.hist(dataset_values, bins=20)\n",
    "    plot_2.set_title(f\"Histogram for {feature}\")\n",
    "\n",
    "    plt.show()"
   ],
   "metadata": {
    "collapsed": false,
    "pycharm": {
     "name": "#%%\n"
    }
   }
  },
  {
   "cell_type": "markdown",
   "source": [
    "Cool, our data doesn't seem to have any outliers and follows a roughly normal distribution in all cases.\n",
    "(It's almost as if we're using a made up dataset 🙈). In real life, we may or may not want to remove some\n",
    "outliers and clean up our data here.\n",
    "\n",
    "For categorical data, we're gonna do some basic bar charts showing count of occurrences of each record."
   ],
   "metadata": {
    "collapsed": false
   }
  },
  {
   "cell_type": "code",
   "execution_count": null,
   "outputs": [],
   "source": [],
   "metadata": {
    "collapsed": false,
    "pycharm": {
     "name": "#%%\n"
    }
   }
  }
 ],
 "metadata": {
  "kernelspec": {
   "display_name": "Python 3",
   "language": "python",
   "name": "python3"
  },
  "language_info": {
   "codemirror_mode": {
    "name": "ipython",
    "version": 2
   },
   "file_extension": ".py",
   "mimetype": "text/x-python",
   "name": "python",
   "nbconvert_exporter": "python",
   "pygments_lexer": "ipython2",
   "version": "2.7.6"
  }
 },
 "nbformat": 4,
 "nbformat_minor": 0
}